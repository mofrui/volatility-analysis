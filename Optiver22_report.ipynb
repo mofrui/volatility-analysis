{
 "cells": [
  {
   "cell_type": "markdown",
   "metadata": {},
   "source": [
    "# Marking guide (to be removed)\n",
    "\n",
    "**Maximum length: Word limit: 3000 words. Table/Figure limit: 5.**\n",
    "\n",
    "\n",
    "Report style guide:\n",
    "The format should include an executive summary, background (including data), methods, results, discussion and conclusion. Things to consider are:\n",
    "\n",
    "Executive summary: (~1/2 page)\n",
    "\n",
    "Short description of the problem.\n",
    "The main findings.\n",
    "Key figure if appropriate.\n",
    "The practical relevance of the analysis.\n",
    "\n",
    "\n",
    "The report: \n",
    "\n",
    "Communicate the results to a general scientist, note this is different to the target audience of your product. \n",
    "A clear description of your innovation and approach to the scientific problem.\n",
    "Include all relevant data summaries only.\n",
    "What is your approach and which tools are used and why? \n",
    "What are the key findings? and use figures to illustrate the results.\n",
    "How robust and generalizable is your finding or your product?\n",
    "Main code and technical details of your approach in the appendix.\n",
    "On the presentation of the report:\n",
    "\n",
    "If grammar is not your strong suit, then use small sentences.\n",
    "All figures and tables should be captioned. Label the axes and headings for all figures. Use legends if applicable.\n",
    "Only show figures that you think are necessary (less is more). Avoid showing large collections of code in the main body report, these should be in the appendix. Marks will be deducted for irrelevant figures.\n",
    " \n",
    "\n",
    "Computational:\n",
    "\n",
    "Well commented code improves readability.\n",
    "If your model requires substantial computational time, please consider using caching and provide your entire project.\n",
    "\n",
    "\n",
    "Important: As this is a joint project, the nature of each student’s individual contribution must be made clear at the end of the report, in a section titled Student contributions (to place it directly prior to the Reference section). This section should clearly describe who was responsible for generating the data, tuning the machine, performing the processing, writing the code, making observations, deploying the final product and writing/editing the report.  This should take the form of one paragraph of approximately 50 words (and no more than 200 words) summarizing the student's contribution. All group members should agree and acknowledge this component as an accurate reflection of each other's individual contributions. This component doesn't contribute to the overall word limit of your report. \n"
   ]
  },
  {
   "cell_type": "markdown",
   "metadata": {},
   "source": []
  },
  {
   "cell_type": "markdown",
   "metadata": {},
   "source": [
    "# Executive Summary\n",
    "\n",
    "## Problem Description \n",
    "\n",
    "Reaearch question: How can short-term volatility forecasts improve bid-ask spread quoting strategies for HFT firms, and how does inter-stock correlation affect prediction accuracy and quoting performance?\n",
    "\n",
    "In high-frequency trading (HFT), market makers generate profit by repeatedly quoting bid and ask prices and earning the spread, while managing execution risk. As Deloitte (2015) notes, “these high frequency traders made prices by manually coordinating offers and taking on the risks of buying and selling shares in return for spread.” Accurately forecasting short-term volatility enables dynamic spread adjustments, helping balance profitability with risk. However, prediction performance may vary across assets, particularly when inter-stock correlations differ — which can influence both signal strength and quoting effectiveness.\n",
    "\n",
    "\n",
    "\n",
    "The main findings.\n",
    "Key figure if appropriate.\n",
    "The practical relevance of the analysis.\n"
   ]
  },
  {
   "cell_type": "markdown",
   "metadata": {},
   "source": [
    "# Background (incl. Data)\n",
    "## Dataset overview\n",
    "\n",
    "## Data dictionary \n"
   ]
  },
  {
   "cell_type": "markdown",
   "metadata": {},
   "source": [
    "# Methods\n"
   ]
  },
  {
   "cell_type": "markdown",
   "metadata": {},
   "source": [
    "# Evaluation and Results\n",
    "\n"
   ]
  },
  {
   "cell_type": "markdown",
   "metadata": {},
   "source": [
    "# Discussion\n",
    "\n"
   ]
  },
  {
   "cell_type": "markdown",
   "metadata": {},
   "source": [
    "# Conclusion\n",
    "\n"
   ]
  },
  {
   "cell_type": "markdown",
   "metadata": {},
   "source": [
    "# References\n",
    "\n",
    "## Student Contributions\n",
    "\n",
    "## References \n",
    "1. Deloitte. (2015). The future of financial services: How disruptive innovations are reshaping the way financial services are structured, provisioned and consumed. World Economic Forum. Retrieved from https://www2.deloitte.com/content/dam/Deloitte/global/Documents/Financial-Services/gx-fsi-wef-the-future-of-financial-services.pdf\n",
    "\n",
    "\n",
    "\n",
    "## Appendix (with code)"
   ]
  }
 ],
 "metadata": {
  "language_info": {
   "name": "python"
  }
 },
 "nbformat": 4,
 "nbformat_minor": 2
}
