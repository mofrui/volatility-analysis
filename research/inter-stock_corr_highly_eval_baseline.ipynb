{
 "cells": [
  {
   "cell_type": "code",
   "execution_count": 1,
   "id": "d875be84",
   "metadata": {},
   "outputs": [],
   "source": [
    "import pandas as pd\n",
    "import numpy as np\n",
    "import os\n",
    "import matplotlib.pyplot as plt\n",
    "import util"
   ]
  },
  {
   "cell_type": "code",
   "execution_count": 2,
   "id": "359f887c",
   "metadata": {},
   "outputs": [
    {
     "data": {
      "text/plain": [
       "<module 'util' from '/Users/ellajones/util.py'>"
      ]
     },
     "execution_count": 2,
     "metadata": {},
     "output_type": "execute_result"
    }
   ],
   "source": [
    "import importlib\n",
    "importlib.reload(util)"
   ]
  },
  {
   "cell_type": "code",
   "execution_count": 3,
   "id": "e966983c",
   "metadata": {
    "scrolled": true
   },
   "outputs": [],
   "source": [
    "qqq_df = pd.read_csv(\"qqq_df.csv\") # this is just the combined target and feature parquets and then filter on stock_id=104919"
   ]
  },
  {
   "cell_type": "code",
   "execution_count": 4,
   "id": "3a4757e3",
   "metadata": {},
   "outputs": [],
   "source": [
    "feature_eng_df = util.create_snapshot_features(qqq_df)"
   ]
  },
  {
   "cell_type": "code",
   "execution_count": 5,
   "id": "a3ed4115",
   "metadata": {},
   "outputs": [],
   "source": [
    "folder_path = \"/Users/ellajones/Downloads/Optiver_additional data\""
   ]
  },
  {
   "cell_type": "code",
   "execution_count": 6,
   "id": "5e828f0c",
   "metadata": {},
   "outputs": [],
   "source": [
    "time_ref_path = os.path.join(folder_path, \"time_id_reference.csv\")\n",
    "time_ref_df = pd.read_csv(time_ref_path)"
   ]
  },
  {
   "cell_type": "code",
   "execution_count": 7,
   "id": "36f9e0e1",
   "metadata": {},
   "outputs": [],
   "source": [
    "time_ref_df[\"datetime\"] = pd.to_datetime(time_ref_df[\"date\"] + \" \" + time_ref_df[\"time\"])"
   ]
  },
  {
   "cell_type": "code",
   "execution_count": 8,
   "id": "b1cea158",
   "metadata": {},
   "outputs": [],
   "source": [
    "qqq_df_1 = pd.merge(\n",
    "    feature_eng_df.drop(columns=[\"datetime\"], errors=\"ignore\"),  # just in case it already exists\n",
    "    time_ref_df[[\"time_id\", \"datetime\"]],\n",
    "    on=\"time_id\",\n",
    "    how=\"left\"\n",
    ")"
   ]
  },
  {
   "cell_type": "code",
   "execution_count": 15,
   "id": "d988dddf",
   "metadata": {},
   "outputs": [],
   "source": [
    "#qqq_df_rw = util.generate_rolling_features(qqq_df)"
   ]
  },
  {
   "cell_type": "code",
   "execution_count": 10,
   "id": "9beba55b",
   "metadata": {},
   "outputs": [],
   "source": [
    "feature_cols = ['wap', 'spread_pct', 'imbalance', 'depth_ratio', 'log_return']"
   ]
  },
  {
   "cell_type": "code",
   "execution_count": 11,
   "id": "c917004d",
   "metadata": {},
   "outputs": [],
   "source": [
    "qqq_df_ts = util.generate_tick_sequences(qqq_df_1, feature_cols)"
   ]
  },
  {
   "cell_type": "code",
   "execution_count": 13,
   "id": "01c26a69",
   "metadata": {},
   "outputs": [],
   "source": [
    "qqq_df_ts.to_pickle('qqq_df_ts.pkl')"
   ]
  },
  {
   "cell_type": "markdown",
   "id": "292b8cc0",
   "metadata": {},
   "source": [
    "BASELINE"
   ]
  },
  {
   "cell_type": "code",
   "execution_count": 4,
   "id": "6c9ab43d",
   "metadata": {},
   "outputs": [],
   "source": [
    "os.chdir('/Users/ellajones/Downloads/Model/')"
   ]
  },
  {
   "cell_type": "code",
   "execution_count": 5,
   "id": "37aebcbd",
   "metadata": {},
   "outputs": [],
   "source": [
    "from tensorflow.keras.models import load_model"
   ]
  },
  {
   "cell_type": "code",
   "execution_count": 6,
   "id": "651845a3",
   "metadata": {},
   "outputs": [],
   "source": [
    "lstm_bl = load_model('lstm_baseline.h5',compile=False)"
   ]
  },
  {
   "cell_type": "code",
   "execution_count": 7,
   "id": "c14791ce",
   "metadata": {},
   "outputs": [
    {
     "name": "stderr",
     "output_type": "stream",
     "text": [
      "/Users/ellajones/anaconda3/lib/python3.11/site-packages/sklearn/base.py:347: InconsistentVersionWarning: Trying to unpickle estimator StandardScaler from version 1.6.1 when using version 1.3.0. This might lead to breaking code or invalid results. Use at your own risk. For more info please refer to:\n",
      "https://scikit-learn.org/stable/model_persistence.html#security-maintainability-limitations\n",
      "  warnings.warn(\n"
     ]
    }
   ],
   "source": [
    "import pickle\n",
    "\n",
    "with open('lstm_baseline_scalers.pkl', 'rb') as f:\n",
    "    scalers = pickle.load(f)"
   ]
  },
  {
   "cell_type": "code",
   "execution_count": 3,
   "id": "4bccd8d5",
   "metadata": {},
   "outputs": [],
   "source": [
    "qqq_df_ts = pd.read_pickle('qqq_df_ts.pkl')"
   ]
  },
  {
   "cell_type": "code",
   "execution_count": 8,
   "id": "41513136",
   "metadata": {},
   "outputs": [],
   "source": [
    "total = len(qqq_df_ts)\n",
    "subset = qqq_df_ts.iloc[-total // 5:] #using most recent 20% of data to help computer out lol"
   ]
  },
  {
   "cell_type": "code",
   "execution_count": 9,
   "id": "8b42da4d",
   "metadata": {},
   "outputs": [],
   "source": [
    "X = np.stack(subset['X'].values) ",
    "y = subset['y'].values  "
   ]
  },
  {
   "cell_type": "code",
   "execution_count": 10,
   "id": "dfa39b85",
   "metadata": {},
   "outputs": [
    {
     "name": "stdout",
     "output_type": "stream",
     "text": [
      "(151060, 330, 5)\n"
     ]
    }
   ],
   "source": [
    "print(X.shape)"
   ]
  },
  {
   "cell_type": "code",
   "execution_count": 11,
   "id": "23dc123e",
   "metadata": {},
   "outputs": [],
   "source": [
    "scaler = scalers['x_scaler']"
   ]
  },
  {
   "cell_type": "code",
   "execution_count": 12,
   "id": "2b4c7320",
   "metadata": {},
   "outputs": [
    {
     "name": "stdout",
     "output_type": "stream",
     "text": [
      "Scaled 0/151060 sequences\n",
      "Scaled 50000/151060 sequences\n",
      "Scaled 100000/151060 sequences\n",
      "Scaled 150000/151060 sequences\n"
     ]
    }
   ],
   "source": [
    "samples, steps, feats = X.shape\n",
    "X_scaled = np.empty_like(X)\n",
    "\n",
    "for i in range(samples):\n",
    "    X_scaled[i] = scaler.transform(X[i])\n",
    "    if i % 50000 == 0:\n",
    "        print(f\"Scaled {i}/{samples} sequences\")"
   ]
  },
  {
   "cell_type": "code",
   "execution_count": 14,
   "id": "17857555",
   "metadata": {},
   "outputs": [
    {
     "name": "stdout",
     "output_type": "stream",
     "text": [
      "\u001b[1m296/296\u001b[0m \u001b[32m━━━━━━━━━━━━━━━━━━━━\u001b[0m\u001b[37m\u001b[0m \u001b[1m35s\u001b[0m 118ms/step\n"
     ]
    }
   ],
   "source": [
    "y_pred = lstm_bl.predict(X_scaled, batch_size=512).flatten()"
   ]
  },
  {
   "cell_type": "code",
   "execution_count": 37,
   "id": "70e1dd47",
   "metadata": {},
   "outputs": [],
   "source": [
    "results_df = pd.DataFrame({\n",
    "    'time_id': subset['time_id'].values,\n",
    "    'start_time':subset['start_time'].values,\n",
    "    'y_true': subset['y'].values,\n",
    "    'y_pred': y_pred\n",
    "})"
   ]
  },
  {
   "cell_type": "code",
   "execution_count": 38,
   "id": "411a0b2c",
   "metadata": {},
   "outputs": [
    {
     "data": {
      "text/html": [
       "<div>\n",
       "<style scoped>\n",
       "    .dataframe tbody tr th:only-of-type {\n",
       "        vertical-align: middle;\n",
       "    }\n",
       "\n",
       "    .dataframe tbody tr th {\n",
       "        vertical-align: top;\n",
       "    }\n",
       "\n",
       "    .dataframe thead th {\n",
       "        text-align: right;\n",
       "    }\n",
       "</style>\n",
       "<table border=\"1\" class=\"dataframe\">\n",
       "  <thead>\n",
       "    <tr style=\"text-align: right;\">\n",
       "      <th></th>\n",
       "      <th>time_id</th>\n",
       "      <th>start_time</th>\n",
       "      <th>y_true</th>\n",
       "      <th>y_pred</th>\n",
       "    </tr>\n",
       "  </thead>\n",
       "  <tbody>\n",
       "    <tr>\n",
       "      <th>151055</th>\n",
       "      <td>1199</td>\n",
       "      <td>3240.0</td>\n",
       "      <td>0.000149</td>\n",
       "      <td>0.454687</td>\n",
       "    </tr>\n",
       "    <tr>\n",
       "      <th>151056</th>\n",
       "      <td>1199</td>\n",
       "      <td>3245.0</td>\n",
       "      <td>0.000145</td>\n",
       "      <td>0.437577</td>\n",
       "    </tr>\n",
       "    <tr>\n",
       "      <th>151057</th>\n",
       "      <td>1199</td>\n",
       "      <td>3250.0</td>\n",
       "      <td>0.000279</td>\n",
       "      <td>0.526373</td>\n",
       "    </tr>\n",
       "    <tr>\n",
       "      <th>151058</th>\n",
       "      <td>1199</td>\n",
       "      <td>3255.0</td>\n",
       "      <td>0.000342</td>\n",
       "      <td>0.305711</td>\n",
       "    </tr>\n",
       "    <tr>\n",
       "      <th>151059</th>\n",
       "      <td>1199</td>\n",
       "      <td>3260.0</td>\n",
       "      <td>0.000355</td>\n",
       "      <td>0.529958</td>\n",
       "    </tr>\n",
       "  </tbody>\n",
       "</table>\n",
       "</div>"
      ],
      "text/plain": [
       "        time_id  start_time    y_true    y_pred\n",
       "151055     1199      3240.0  0.000149  0.454687\n",
       "151056     1199      3245.0  0.000145  0.437577\n",
       "151057     1199      3250.0  0.000279  0.526373\n",
       "151058     1199      3255.0  0.000342  0.305711\n",
       "151059     1199      3260.0  0.000355  0.529958"
      ]
     },
     "execution_count": 38,
     "metadata": {},
     "output_type": "execute_result"
    }
   ],
   "source": [
    "results_df.tail()"
   ]
  },
  {
   "cell_type": "code",
   "execution_count": 21,
   "id": "36aafb89",
   "metadata": {},
   "outputs": [],
   "source": [
    "from sklearn.metrics import mean_squared_error"
   ]
  },
  {
   "cell_type": "code",
   "execution_count": 24,
   "id": "d5379b8f",
   "metadata": {},
   "outputs": [
    {
     "name": "stdout",
     "output_type": "stream",
     "text": [
      "MSE: 0.342555\n",
      "RMSE: 0.585282\n"
     ]
    }
   ],
   "source": [
    "mse = mean_squared_error(y, y_pred)\n",
    "rmse = np.sqrt(mse)\n",
    "print(f\"MSE: {mse:.6f}\")\n",
    "print(f\"RMSE: {rmse:.6f}\")"
   ]
  },
  {
   "cell_type": "code",
   "execution_count": 35,
   "id": "9c7936e2",
   "metadata": {},
   "outputs": [
    {
     "data": {
      "text/plain": [
       "16.0402771118427"
      ]
     },
     "execution_count": 35,
     "metadata": {},
     "output_type": "execute_result"
    }
   ],
   "source": [
    "util.qlike_loss(y,y_pred)"
   ]
  },
  {
   "cell_type": "code",
   "execution_count": 26,
   "id": "273f4781",
   "metadata": {},
   "outputs": [
    {
     "data": {
      "text/plain": [
       "0.3383777199637228"
      ]
     },
     "execution_count": 26,
     "metadata": {},
     "output_type": "execute_result"
    }
   ],
   "source": [
    "util.directional_accuracy(y,y_pred)"
   ]
  },
  {
   "cell_type": "code",
   "execution_count": 43,
   "id": "f7b5c0d6",
   "metadata": {},
   "outputs": [
    {
     "data": {
      "image/png": "[encoded data removed]",
      "text/plain": [
       "<Figure size 1200x500 with 1 Axes>"
      ]
     },
     "metadata": {},
     "output_type": "display_data"
    }
   ],
   "source": [
    "util.plot_prediction_vs_actual(results_df, 1000, y_true_col='y_true', y_pred_col='y_pred')"
   ]
  }
 ],
 "metadata": {
  "kernelspec": {
   "display_name": "Python 3 (ipykernel)",
   "language": "python",
   "name": "python3"
  },
  "language_info": {
   "codemirror_mode": {
    "name": "ipython",
    "version": 3
   },
   "file_extension": ".py",
   "mimetype": "text/x-python",
   "name": "python",
   "nbconvert_exporter": "python",
   "pygments_lexer": "ipython3",
   "version": "3.11.5"
  }
 },
 "nbformat": 4,
 "nbformat_minor": 5
}
